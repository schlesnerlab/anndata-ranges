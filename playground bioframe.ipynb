{
 "cells": [
  {
   "cell_type": "code",
   "execution_count": 3,
   "metadata": {},
   "outputs": [],
   "source": [
    "import numpy as np\n",
    "import pandas as pd\n",
    "import anndata as ad\n",
    "from scipy.sparse import csr_matrix\n",
    "from mudata import MuData\n",
    "import mudata as md\n",
    "from anndata import AnnData\n",
    "import pyranges as pr\n",
    "import bioframe as bf\n",
    "import bioframe.vis"
   ]
  },
  {
   "cell_type": "code",
   "execution_count": 4,
   "metadata": {},
   "outputs": [],
   "source": [
    "counts = csr_matrix(np.random.poisson(1, size=(100, 1000)), dtype=np.float32)\n",
    "exons, cpg = pr.data.exons(), pr.data.cpg()\n",
    "\n",
    "adata = ad.AnnData(counts)\n",
    "adata.obs_names = [f\"Cell_{i:d}\" for i in range(adata.n_obs)]\n",
    "adata.var_names = [f\"Gene_{i:d}\" for i in range(adata.n_vars)]"
   ]
  },
  {
   "cell_type": "code",
   "execution_count": 5,
   "metadata": {},
   "outputs": [],
   "source": [
    "adata.varm['coord'] = exons.df.sample(frac=1, replace=False).set_index(adata.var_names)"
   ]
  },
  {
   "cell_type": "code",
   "execution_count": 6,
   "metadata": {},
   "outputs": [],
   "source": [
    "coord = pr.PyRanges(adata.varm['coord'].reset_index())"
   ]
  },
  {
   "cell_type": "code",
   "execution_count": 7,
   "metadata": {},
   "outputs": [],
   "source": [
    "pyranges_df = adata.varm['coord'].reset_index()"
   ]
  },
  {
   "cell_type": "code",
   "execution_count": 20,
   "metadata": {},
   "outputs": [
    {
     "ename": "TypeError",
     "evalue": "Invalid bedFrame: Invalid column names",
     "output_type": "error",
     "traceback": [
      "\u001b[0;31m---------------------------------------------------------------------------\u001b[0m",
      "\u001b[0;31mTypeError\u001b[0m                                 Traceback (most recent call last)",
      "\u001b[0;32m/var/folders/79/cbc9h56s5v7gbsvc3kk0lwmw0000gq/T/ipykernel_12954/2471424253.py\u001b[0m in \u001b[0;36m<module>\u001b[0;34m\u001b[0m\n\u001b[1;32m      1\u001b[0m \u001b[0mbed_column_names\u001b[0m \u001b[0;34m=\u001b[0m \u001b[0;34m(\u001b[0m\u001b[0;34m\"Chromosome\"\u001b[0m\u001b[0;34m,\u001b[0m \u001b[0;34m\"Start\"\u001b[0m\u001b[0;34m,\u001b[0m \u001b[0;34m\"End\"\u001b[0m\u001b[0;34m)\u001b[0m\u001b[0;34m\u001b[0m\u001b[0;34m\u001b[0m\u001b[0m\n\u001b[0;32m----> 2\u001b[0;31m \u001b[0mquery_result\u001b[0m \u001b[0;34m=\u001b[0m \u001b[0mbf\u001b[0m\u001b[0;34m.\u001b[0m\u001b[0mselect\u001b[0m\u001b[0;34m(\u001b[0m\u001b[0mexons\u001b[0m\u001b[0;34m[\u001b[0m\u001b[0;34m[\u001b[0m\u001b[0;34m\"Chromosome\"\u001b[0m\u001b[0;34m,\u001b[0m \u001b[0;34m\"Start\"\u001b[0m\u001b[0;34m,\u001b[0m \u001b[0;34m\"End\"\u001b[0m\u001b[0;34m]\u001b[0m\u001b[0;34m]\u001b[0m\u001b[0;34m,\u001b[0m \u001b[0;34m\"chrX:0-1000000\"\u001b[0m\u001b[0;34m,\u001b[0m \u001b[0mcols\u001b[0m\u001b[0;34m=\u001b[0m\u001b[0mbed_column_names\u001b[0m\u001b[0;34m)\u001b[0m\u001b[0;34m\u001b[0m\u001b[0;34m\u001b[0m\u001b[0m\n\u001b[0m\u001b[1;32m      3\u001b[0m \u001b[0mquery_result\u001b[0m\u001b[0;34m.\u001b[0m\u001b[0mhead\u001b[0m\u001b[0;34m(\u001b[0m\u001b[0;34m)\u001b[0m\u001b[0;34m\u001b[0m\u001b[0;34m\u001b[0m\u001b[0m\n",
      "\u001b[0;32m~/opt/miniconda3/lib/python3.9/site-packages/bioframe/ops.py\u001b[0m in \u001b[0;36mselect\u001b[0;34m(df, region, cols)\u001b[0m\n\u001b[1;32m     53\u001b[0m \u001b[0;34m\u001b[0m\u001b[0m\n\u001b[1;32m     54\u001b[0m     \u001b[0mck\u001b[0m\u001b[0;34m,\u001b[0m \u001b[0msk\u001b[0m\u001b[0;34m,\u001b[0m \u001b[0mek\u001b[0m \u001b[0;34m=\u001b[0m \u001b[0m_get_default_colnames\u001b[0m\u001b[0;34m(\u001b[0m\u001b[0;34m)\u001b[0m \u001b[0;32mif\u001b[0m \u001b[0mcols\u001b[0m \u001b[0;32mis\u001b[0m \u001b[0;32mNone\u001b[0m \u001b[0;32melse\u001b[0m \u001b[0mcols\u001b[0m\u001b[0;34m\u001b[0m\u001b[0;34m\u001b[0m\u001b[0m\n\u001b[0;32m---> 55\u001b[0;31m     \u001b[0mchecks\u001b[0m\u001b[0;34m.\u001b[0m\u001b[0mis_bedframe\u001b[0m\u001b[0;34m(\u001b[0m\u001b[0mdf\u001b[0m\u001b[0;34m,\u001b[0m \u001b[0mraise_errors\u001b[0m\u001b[0;34m=\u001b[0m\u001b[0;32mTrue\u001b[0m\u001b[0;34m,\u001b[0m \u001b[0mcols\u001b[0m\u001b[0;34m=\u001b[0m\u001b[0;34m[\u001b[0m\u001b[0mck\u001b[0m\u001b[0;34m,\u001b[0m \u001b[0msk\u001b[0m\u001b[0;34m,\u001b[0m \u001b[0mek\u001b[0m\u001b[0;34m]\u001b[0m\u001b[0;34m)\u001b[0m\u001b[0;34m\u001b[0m\u001b[0;34m\u001b[0m\u001b[0m\n\u001b[0m\u001b[1;32m     56\u001b[0m \u001b[0;34m\u001b[0m\u001b[0m\n\u001b[1;32m     57\u001b[0m     \u001b[0mchrom\u001b[0m\u001b[0;34m,\u001b[0m \u001b[0mstart\u001b[0m\u001b[0;34m,\u001b[0m \u001b[0mend\u001b[0m \u001b[0;34m=\u001b[0m \u001b[0mparse_region\u001b[0m\u001b[0;34m(\u001b[0m\u001b[0mregion\u001b[0m\u001b[0;34m)\u001b[0m\u001b[0;34m\u001b[0m\u001b[0;34m\u001b[0m\u001b[0m\n",
      "\u001b[0;32m~/opt/miniconda3/lib/python3.9/site-packages/bioframe/core/checks.py\u001b[0m in \u001b[0;36mis_bedframe\u001b[0;34m(df, raise_errors, cols)\u001b[0m\n\u001b[1;32m     54\u001b[0m     \u001b[0;32mif\u001b[0m \u001b[0;32mnot\u001b[0m \u001b[0m_verify_columns\u001b[0m\u001b[0;34m(\u001b[0m\u001b[0mdf\u001b[0m\u001b[0;34m,\u001b[0m \u001b[0;34m[\u001b[0m\u001b[0mck1\u001b[0m\u001b[0;34m,\u001b[0m \u001b[0msk1\u001b[0m\u001b[0;34m,\u001b[0m \u001b[0mek1\u001b[0m\u001b[0;34m]\u001b[0m\u001b[0;34m,\u001b[0m \u001b[0mreturn_as_bool\u001b[0m\u001b[0;34m=\u001b[0m\u001b[0;32mTrue\u001b[0m\u001b[0;34m)\u001b[0m\u001b[0;34m:\u001b[0m\u001b[0;34m\u001b[0m\u001b[0;34m\u001b[0m\u001b[0m\n\u001b[1;32m     55\u001b[0m         \u001b[0;32mif\u001b[0m \u001b[0mraise_errors\u001b[0m\u001b[0;34m:\u001b[0m\u001b[0;34m\u001b[0m\u001b[0;34m\u001b[0m\u001b[0m\n\u001b[0;32m---> 56\u001b[0;31m             \u001b[0;32mraise\u001b[0m \u001b[0mTypeError\u001b[0m\u001b[0;34m(\u001b[0m\u001b[0;34m\"Invalid bedFrame: Invalid column names\"\u001b[0m\u001b[0;34m)\u001b[0m\u001b[0;34m\u001b[0m\u001b[0;34m\u001b[0m\u001b[0m\n\u001b[0m\u001b[1;32m     57\u001b[0m         \u001b[0;32mreturn\u001b[0m \u001b[0;32mFalse\u001b[0m\u001b[0;34m\u001b[0m\u001b[0;34m\u001b[0m\u001b[0m\n\u001b[1;32m     58\u001b[0m \u001b[0;34m\u001b[0m\u001b[0m\n",
      "\u001b[0;31mTypeError\u001b[0m: Invalid bedFrame: Invalid column names"
     ]
    }
   ],
   "source": [
    "bed_column_names = (\"Chromosome\", \"Start\", \"End\")\n",
    "query_result = bf.select(exons[[\"Chromosome\", \"Start\", \"End\"]], \"chrX:0-1000000\", cols=bed_column_names)\n",
    "query_result.head()"
   ]
  },
  {
   "cell_type": "code",
   "execution_count": 19,
   "metadata": {},
   "outputs": [
    {
     "data": {
      "text/html": [
       "<div>\n",
       "<style scoped>\n",
       "    .dataframe tbody tr th:only-of-type {\n",
       "        vertical-align: middle;\n",
       "    }\n",
       "\n",
       "    .dataframe tbody tr th {\n",
       "        vertical-align: top;\n",
       "    }\n",
       "\n",
       "    .dataframe thead th {\n",
       "        text-align: right;\n",
       "    }\n",
       "</style>\n",
       "<table border=\"1\" class=\"dataframe\">\n",
       "  <thead>\n",
       "    <tr style=\"text-align: right;\">\n",
       "      <th></th>\n",
       "      <th>Chromosome</th>\n",
       "      <th>Start</th>\n",
       "      <th>End</th>\n",
       "      <th>Strand</th>\n",
       "    </tr>\n",
       "  </thead>\n",
       "  <tbody>\n",
       "    <tr>\n",
       "      <th>0</th>\n",
       "      <td>chrX</td>\n",
       "      <td>135721701</td>\n",
       "      <td>135721963</td>\n",
       "      <td>+</td>\n",
       "    </tr>\n",
       "    <tr>\n",
       "      <th>1</th>\n",
       "      <td>chrX</td>\n",
       "      <td>135574120</td>\n",
       "      <td>135574598</td>\n",
       "      <td>+</td>\n",
       "    </tr>\n",
       "    <tr>\n",
       "      <th>2</th>\n",
       "      <td>chrX</td>\n",
       "      <td>47868945</td>\n",
       "      <td>47869126</td>\n",
       "      <td>+</td>\n",
       "    </tr>\n",
       "    <tr>\n",
       "      <th>3</th>\n",
       "      <td>chrX</td>\n",
       "      <td>77294333</td>\n",
       "      <td>77294480</td>\n",
       "      <td>+</td>\n",
       "    </tr>\n",
       "    <tr>\n",
       "      <th>4</th>\n",
       "      <td>chrX</td>\n",
       "      <td>91090459</td>\n",
       "      <td>91091043</td>\n",
       "      <td>+</td>\n",
       "    </tr>\n",
       "    <tr>\n",
       "      <th>...</th>\n",
       "      <td>...</td>\n",
       "      <td>...</td>\n",
       "      <td>...</td>\n",
       "      <td>...</td>\n",
       "    </tr>\n",
       "    <tr>\n",
       "      <th>995</th>\n",
       "      <td>chrY</td>\n",
       "      <td>15591133</td>\n",
       "      <td>15591197</td>\n",
       "      <td>-</td>\n",
       "    </tr>\n",
       "    <tr>\n",
       "      <th>996</th>\n",
       "      <td>chrY</td>\n",
       "      <td>15409586</td>\n",
       "      <td>15409728</td>\n",
       "      <td>-</td>\n",
       "    </tr>\n",
       "    <tr>\n",
       "      <th>997</th>\n",
       "      <td>chrY</td>\n",
       "      <td>15478146</td>\n",
       "      <td>15478273</td>\n",
       "      <td>-</td>\n",
       "    </tr>\n",
       "    <tr>\n",
       "      <th>998</th>\n",
       "      <td>chrY</td>\n",
       "      <td>15360258</td>\n",
       "      <td>15361762</td>\n",
       "      <td>-</td>\n",
       "    </tr>\n",
       "    <tr>\n",
       "      <th>999</th>\n",
       "      <td>chrY</td>\n",
       "      <td>15467254</td>\n",
       "      <td>15467278</td>\n",
       "      <td>-</td>\n",
       "    </tr>\n",
       "  </tbody>\n",
       "</table>\n",
       "<p>1000 rows × 4 columns</p>\n",
       "</div>"
      ],
      "text/plain": [
       "+--------------+-----------+-----------+--------------+\n",
       "| Chromosome   | Start     | End       | Strand       |\n",
       "| (category)   | (int32)   | (int32)   | (category)   |\n",
       "|--------------+-----------+-----------+--------------|\n",
       "| chrX         | 135721701 | 135721963 | +            |\n",
       "| chrX         | 135574120 | 135574598 | +            |\n",
       "| chrX         | 47868945  | 47869126  | +            |\n",
       "| chrX         | 77294333  | 77294480  | +            |\n",
       "| ...          | ...       | ...       | ...          |\n",
       "| chrY         | 15409586  | 15409728  | -            |\n",
       "| chrY         | 15478146  | 15478273  | -            |\n",
       "| chrY         | 15360258  | 15361762  | -            |\n",
       "| chrY         | 15467254  | 15467278  | -            |\n",
       "+--------------+-----------+-----------+--------------+\n",
       "Stranded PyRanges object has 1,000 rows and 4 columns from 2 chromosomes.\n",
       "For printing, the PyRanges was sorted on Chromosome and Strand."
      ]
     },
     "execution_count": 19,
     "metadata": {},
     "output_type": "execute_result"
    }
   ],
   "source": [
    "exons[[\"Chromosome\", \"Start\", \"End\"]]"
   ]
  },
  {
   "cell_type": "code",
   "execution_count": 110,
   "metadata": {},
   "outputs": [
    {
     "data": {
      "text/html": [
       "<div>\n",
       "<style scoped>\n",
       "    .dataframe tbody tr th:only-of-type {\n",
       "        vertical-align: middle;\n",
       "    }\n",
       "\n",
       "    .dataframe tbody tr th {\n",
       "        vertical-align: top;\n",
       "    }\n",
       "\n",
       "    .dataframe thead th {\n",
       "        text-align: right;\n",
       "    }\n",
       "</style>\n",
       "<table border=\"1\" class=\"dataframe\">\n",
       "  <thead>\n",
       "    <tr style=\"text-align: right;\">\n",
       "      <th></th>\n",
       "      <th>index</th>\n",
       "      <th>Chromosome</th>\n",
       "      <th>Start</th>\n",
       "      <th>End</th>\n",
       "      <th>Name</th>\n",
       "      <th>Score</th>\n",
       "      <th>Strand</th>\n",
       "    </tr>\n",
       "  </thead>\n",
       "  <tbody>\n",
       "    <tr>\n",
       "      <th>0</th>\n",
       "      <td>Gene_0</td>\n",
       "      <td>chrX</td>\n",
       "      <td>51453924</td>\n",
       "      <td>51455226</td>\n",
       "      <td>NR_033773_exon_0_0_chrX_51453925_f</td>\n",
       "      <td>0</td>\n",
       "      <td>+</td>\n",
       "    </tr>\n",
       "    <tr>\n",
       "      <th>1</th>\n",
       "      <td>Gene_2</td>\n",
       "      <td>chrX</td>\n",
       "      <td>105880989</td>\n",
       "      <td>105881024</td>\n",
       "      <td>NM_001184782_exon_7_0_chrX_105880990_f</td>\n",
       "      <td>0</td>\n",
       "      <td>+</td>\n",
       "    </tr>\n",
       "    <tr>\n",
       "      <th>2</th>\n",
       "      <td>Gene_3</td>\n",
       "      <td>chrX</td>\n",
       "      <td>115585489</td>\n",
       "      <td>115585608</td>\n",
       "      <td>NM_007231_exon_9_0_chrX_115585490_f</td>\n",
       "      <td>0</td>\n",
       "      <td>+</td>\n",
       "    </tr>\n",
       "    <tr>\n",
       "      <th>3</th>\n",
       "      <td>Gene_5</td>\n",
       "      <td>chrX</td>\n",
       "      <td>110463585</td>\n",
       "      <td>110464173</td>\n",
       "      <td>NM_001128173_exon_14_0_chrX_110463586_f</td>\n",
       "      <td>0</td>\n",
       "      <td>+</td>\n",
       "    </tr>\n",
       "    <tr>\n",
       "      <th>4</th>\n",
       "      <td>Gene_7</td>\n",
       "      <td>chrX</td>\n",
       "      <td>49315926</td>\n",
       "      <td>49315999</td>\n",
       "      <td>NM_001127345_exon_0_0_chrX_49315927_f</td>\n",
       "      <td>0</td>\n",
       "      <td>+</td>\n",
       "    </tr>\n",
       "    <tr>\n",
       "      <th>...</th>\n",
       "      <td>...</td>\n",
       "      <td>...</td>\n",
       "      <td>...</td>\n",
       "      <td>...</td>\n",
       "      <td>...</td>\n",
       "      <td>...</td>\n",
       "      <td>...</td>\n",
       "    </tr>\n",
       "    <tr>\n",
       "      <th>995</th>\n",
       "      <td>Gene_973</td>\n",
       "      <td>chrY</td>\n",
       "      <td>15409586</td>\n",
       "      <td>15409728</td>\n",
       "      <td>NR_047626_exon_3_0_chrY_15409587_r</td>\n",
       "      <td>0</td>\n",
       "      <td>-</td>\n",
       "    </tr>\n",
       "    <tr>\n",
       "      <th>996</th>\n",
       "      <td>Gene_977</td>\n",
       "      <td>chrY</td>\n",
       "      <td>15522872</td>\n",
       "      <td>15522993</td>\n",
       "      <td>NM_001258270_exon_22_0_chrY_15522873_r</td>\n",
       "      <td>0</td>\n",
       "      <td>-</td>\n",
       "    </tr>\n",
       "    <tr>\n",
       "      <th>997</th>\n",
       "      <td>Gene_984</td>\n",
       "      <td>chrY</td>\n",
       "      <td>15526614</td>\n",
       "      <td>15526673</td>\n",
       "      <td>NR_047609_exon_23_0_chrY_15526615_r</td>\n",
       "      <td>0</td>\n",
       "      <td>-</td>\n",
       "    </tr>\n",
       "    <tr>\n",
       "      <th>998</th>\n",
       "      <td>Gene_986</td>\n",
       "      <td>chrY</td>\n",
       "      <td>15417278</td>\n",
       "      <td>15417427</td>\n",
       "      <td>NR_047625_exon_6_0_chrY_15417279_r</td>\n",
       "      <td>0</td>\n",
       "      <td>-</td>\n",
       "    </tr>\n",
       "    <tr>\n",
       "      <th>999</th>\n",
       "      <td>Gene_989</td>\n",
       "      <td>chrY</td>\n",
       "      <td>15467802</td>\n",
       "      <td>15467898</td>\n",
       "      <td>NM_001258269_exon_14_0_chrY_15467803_r</td>\n",
       "      <td>0</td>\n",
       "      <td>-</td>\n",
       "    </tr>\n",
       "  </tbody>\n",
       "</table>\n",
       "<p>1000 rows × 7 columns</p>\n",
       "</div>"
      ],
      "text/plain": [
       "+------------+--------------+-----------+-----------+-------+\n",
       "| index      | Chromosome   | Start     | End       | +3    |\n",
       "| (object)   | (category)   | (int32)   | (int32)   | ...   |\n",
       "|------------+--------------+-----------+-----------+-------|\n",
       "| Gene_0     | chrX         | 51453924  | 51455226  | ...   |\n",
       "| Gene_2     | chrX         | 105880989 | 105881024 | ...   |\n",
       "| Gene_3     | chrX         | 115585489 | 115585608 | ...   |\n",
       "| Gene_5     | chrX         | 110463585 | 110464173 | ...   |\n",
       "| ...        | ...          | ...       | ...       | ...   |\n",
       "| Gene_977   | chrY         | 15522872  | 15522993  | ...   |\n",
       "| Gene_984   | chrY         | 15526614  | 15526673  | ...   |\n",
       "| Gene_986   | chrY         | 15417278  | 15417427  | ...   |\n",
       "| Gene_989   | chrY         | 15467802  | 15467898  | ...   |\n",
       "+------------+--------------+-----------+-----------+-------+\n",
       "Stranded PyRanges object has 1,000 rows and 7 columns from 2 chromosomes.\n",
       "For printing, the PyRanges was sorted on Chromosome and Strand.\n",
       "3 hidden columns: Name, Score, Strand"
      ]
     },
     "execution_count": 110,
     "metadata": {},
     "output_type": "execute_result"
    }
   ],
   "source": [
    "pr.PyRanges(pyranges_df)"
   ]
  },
  {
   "cell_type": "code",
   "execution_count": 105,
   "metadata": {},
   "outputs": [
    {
     "data": {
      "text/html": [
       "<div>\n",
       "<style scoped>\n",
       "    .dataframe tbody tr th:only-of-type {\n",
       "        vertical-align: middle;\n",
       "    }\n",
       "\n",
       "    .dataframe tbody tr th {\n",
       "        vertical-align: top;\n",
       "    }\n",
       "\n",
       "    .dataframe thead th {\n",
       "        text-align: right;\n",
       "    }\n",
       "</style>\n",
       "<table border=\"1\" class=\"dataframe\">\n",
       "  <thead>\n",
       "    <tr style=\"text-align: right;\">\n",
       "      <th></th>\n",
       "      <th>Chromosome</th>\n",
       "      <th>Start</th>\n",
       "      <th>End</th>\n",
       "    </tr>\n",
       "  </thead>\n",
       "  <tbody>\n",
       "    <tr>\n",
       "      <th>0</th>\n",
       "      <td>chrX</td>\n",
       "      <td>100000000</td>\n",
       "      <td>900000000</td>\n",
       "    </tr>\n",
       "  </tbody>\n",
       "</table>\n",
       "</div>"
      ],
      "text/plain": [
       "+--------------+-----------+-----------+\n",
       "| Chromosome   |     Start |       End |\n",
       "| (category)   |   (int32) |   (int32) |\n",
       "|--------------+-----------+-----------|\n",
       "| chrX         | 100000000 | 900000000 |\n",
       "+--------------+-----------+-----------+\n",
       "Unstranded PyRanges object has 1 rows and 3 columns from 1 chromosomes.\n",
       "For printing, the PyRanges was sorted on Chromosome."
      ]
     },
     "execution_count": 105,
     "metadata": {},
     "output_type": "execute_result"
    }
   ],
   "source": [
    "pr.PyRanges(chromosomes='chrX', starts=[100000000], ends=[900000000])"
   ]
  },
  {
   "cell_type": "code",
   "execution_count": 9,
   "metadata": {},
   "outputs": [],
   "source": [
    "idx = coord.intersect(pr.PyRanges(chromosomes='chrX', starts=[100000000], ends=[130000000])).index"
   ]
  },
  {
   "cell_type": "code",
   "execution_count": 10,
   "metadata": {},
   "outputs": [
    {
     "data": {
      "text/plain": [
       "View of AnnData object with n_obs × n_vars = 100 × 173\n",
       "    varm: 'coord'"
      ]
     },
     "execution_count": 10,
     "metadata": {},
     "output_type": "execute_result"
    }
   ],
   "source": [
    "adata[:, idx]"
   ]
  },
  {
   "cell_type": "code",
   "execution_count": 14,
   "metadata": {},
   "outputs": [],
   "source": [
    "def slice_pyrange(adata, chrom, start, end):\n",
    "    prange = pr.PyRanges(chromosomes=chrom, starts=[start], ends=[end])\n",
    "    return subset_by_overlap(adata, prange)"
   ]
  },
  {
   "cell_type": "code",
   "execution_count": 98,
   "metadata": {},
   "outputs": [
    {
     "data": {
      "text/plain": [
       "View of AnnData object with n_obs × n_vars = 100 × 122\n",
       "    varm: 'coord'"
      ]
     },
     "execution_count": 98,
     "metadata": {},
     "output_type": "execute_result"
    }
   ],
   "source": [
    "slice_pyrange(adata, 'chrX', 100000000, 120000000)"
   ]
  },
  {
   "cell_type": "code",
   "execution_count": 57,
   "metadata": {},
   "outputs": [],
   "source": [
    "def subset_by_overlap(adata, prange):\n",
    "    coord = pr.PyRanges(adata.varm['coord'].reset_index())\n",
    "    idx = coord.overlap(prange).index\n",
    "    return adata[:, idx]"
   ]
  },
  {
   "cell_type": "code",
   "execution_count": 104,
   "metadata": {},
   "outputs": [
    {
     "data": {
      "text/html": [
       "<div>\n",
       "<style scoped>\n",
       "    .dataframe tbody tr th:only-of-type {\n",
       "        vertical-align: middle;\n",
       "    }\n",
       "\n",
       "    .dataframe tbody tr th {\n",
       "        vertical-align: top;\n",
       "    }\n",
       "\n",
       "    .dataframe thead th {\n",
       "        text-align: right;\n",
       "    }\n",
       "</style>\n",
       "<table border=\"1\" class=\"dataframe\">\n",
       "  <thead>\n",
       "    <tr style=\"text-align: right;\">\n",
       "      <th></th>\n",
       "      <th>Chromosome</th>\n",
       "      <th>Start</th>\n",
       "      <th>End</th>\n",
       "      <th>Name</th>\n",
       "      <th>Score</th>\n",
       "      <th>Strand</th>\n",
       "    </tr>\n",
       "  </thead>\n",
       "  <tbody>\n",
       "    <tr>\n",
       "      <th>0</th>\n",
       "      <td>chrX</td>\n",
       "      <td>135721701</td>\n",
       "      <td>135721963</td>\n",
       "      <td>NR_038462_exon_0_0_chrX_135721702_f</td>\n",
       "      <td>0</td>\n",
       "      <td>+</td>\n",
       "    </tr>\n",
       "    <tr>\n",
       "      <th>1</th>\n",
       "      <td>chrX</td>\n",
       "      <td>135574120</td>\n",
       "      <td>135574598</td>\n",
       "      <td>NM_001727_exon_2_0_chrX_135574121_f</td>\n",
       "      <td>0</td>\n",
       "      <td>+</td>\n",
       "    </tr>\n",
       "    <tr>\n",
       "      <th>2</th>\n",
       "      <td>chrX</td>\n",
       "      <td>47868945</td>\n",
       "      <td>47869126</td>\n",
       "      <td>NM_205856_exon_4_0_chrX_47868946_f</td>\n",
       "      <td>0</td>\n",
       "      <td>+</td>\n",
       "    </tr>\n",
       "    <tr>\n",
       "      <th>3</th>\n",
       "      <td>chrX</td>\n",
       "      <td>77294333</td>\n",
       "      <td>77294480</td>\n",
       "      <td>NM_000052_exon_17_0_chrX_77294334_f</td>\n",
       "      <td>0</td>\n",
       "      <td>+</td>\n",
       "    </tr>\n",
       "    <tr>\n",
       "      <th>4</th>\n",
       "      <td>chrX</td>\n",
       "      <td>91090459</td>\n",
       "      <td>91091043</td>\n",
       "      <td>NM_001168360_exon_0_0_chrX_91090460_f</td>\n",
       "      <td>0</td>\n",
       "      <td>+</td>\n",
       "    </tr>\n",
       "    <tr>\n",
       "      <th>...</th>\n",
       "      <td>...</td>\n",
       "      <td>...</td>\n",
       "      <td>...</td>\n",
       "      <td>...</td>\n",
       "      <td>...</td>\n",
       "      <td>...</td>\n",
       "    </tr>\n",
       "    <tr>\n",
       "      <th>428</th>\n",
       "      <td>chrX</td>\n",
       "      <td>117749562</td>\n",
       "      <td>117749674</td>\n",
       "      <td>NM_144658_exon_29_0_chrX_117749563_f</td>\n",
       "      <td>0</td>\n",
       "      <td>+</td>\n",
       "    </tr>\n",
       "    <tr>\n",
       "      <th>429</th>\n",
       "      <td>chrX</td>\n",
       "      <td>129484619</td>\n",
       "      <td>129484705</td>\n",
       "      <td>NM_001282196_exon_5_0_chrX_129484620_f</td>\n",
       "      <td>0</td>\n",
       "      <td>+</td>\n",
       "    </tr>\n",
       "    <tr>\n",
       "      <th>430</th>\n",
       "      <td>chrX</td>\n",
       "      <td>70607110</td>\n",
       "      <td>70607311</td>\n",
       "      <td>NR_104391_exon_14_0_chrX_70607111_f</td>\n",
       "      <td>0</td>\n",
       "      <td>+</td>\n",
       "    </tr>\n",
       "    <tr>\n",
       "      <th>431</th>\n",
       "      <td>chrX</td>\n",
       "      <td>13587693</td>\n",
       "      <td>13588054</td>\n",
       "      <td>NM_001167890_exon_0_0_chrX_13587694_f</td>\n",
       "      <td>0</td>\n",
       "      <td>+</td>\n",
       "    </tr>\n",
       "    <tr>\n",
       "      <th>432</th>\n",
       "      <td>chrX</td>\n",
       "      <td>148059891</td>\n",
       "      <td>148059985</td>\n",
       "      <td>NM_001169123_exon_17_0_chrX_148059892_f</td>\n",
       "      <td>0</td>\n",
       "      <td>+</td>\n",
       "    </tr>\n",
       "  </tbody>\n",
       "</table>\n",
       "<p>433 rows × 6 columns</p>\n",
       "</div>"
      ],
      "text/plain": [
       "+--------------+-----------+-----------+-------+\n",
       "| Chromosome   | Start     | End       | +3    |\n",
       "| (category)   | (int32)   | (int32)   | ...   |\n",
       "|--------------+-----------+-----------+-------|\n",
       "| chrX         | 135721701 | 135721963 | ...   |\n",
       "| chrX         | 135574120 | 135574598 | ...   |\n",
       "| chrX         | 47868945  | 47869126  | ...   |\n",
       "| chrX         | 77294333  | 77294480  | ...   |\n",
       "| ...          | ...       | ...       | ...   |\n",
       "| chrX         | 129484619 | 129484705 | ...   |\n",
       "| chrX         | 70607110  | 70607311  | ...   |\n",
       "| chrX         | 13587693  | 13588054  | ...   |\n",
       "| chrX         | 148059891 | 148059985 | ...   |\n",
       "+--------------+-----------+-----------+-------+\n",
       "Stranded PyRanges object has 433 rows and 6 columns from 1 chromosomes.\n",
       "For printing, the PyRanges was sorted on Chromosome and Strand.\n",
       "3 hidden columns: Name, Score, Strand"
      ]
     },
     "execution_count": 104,
     "metadata": {},
     "output_type": "execute_result"
    }
   ],
   "source": [
    "exons['chrX']['+']"
   ]
  },
  {
   "cell_type": "code",
   "execution_count": 111,
   "metadata": {},
   "outputs": [
    {
     "data": {
      "text/plain": [
       "View of AnnData object with n_obs × n_vars = 100 × 448\n",
       "    varm: 'coord'"
      ]
     },
     "execution_count": 111,
     "metadata": {},
     "output_type": "execute_result"
    }
   ],
   "source": [
    "slice_pyrange(adata, 'chrX', 10000000, 100000000)"
   ]
  },
  {
   "cell_type": "code",
   "execution_count": 112,
   "metadata": {},
   "outputs": [
    {
     "name": "stderr",
     "output_type": "stream",
     "text": [
      "/var/folders/79/cbc9h56s5v7gbsvc3kk0lwmw0000gq/T/ipykernel_73401/4075923208.py:8: FutureWarning: X.dtype being converted to np.float32 from float64. In the next version of anndata (0.9) conversion will not be automatic. Pass dtype explicitly to avoid this warning. Pass `AnnData(X, dtype=X.dtype, ...)` to get the future behavour.\n",
      "  adata = AnnData(y)\n",
      "/var/folders/79/cbc9h56s5v7gbsvc3kk0lwmw0000gq/T/ipykernel_73401/4075923208.py:16: FutureWarning: X.dtype being converted to np.float32 from float64. In the next version of anndata (0.9) conversion will not be automatic. Pass dtype explicitly to avoid this warning. Pass `AnnData(X, dtype=X.dtype, ...)` to get the future behavour.\n",
      "  adata2 = AnnData(y2)\n"
     ]
    }
   ],
   "source": [
    "n, d, k = 1000, 100, 10\n",
    "\n",
    "z = np.random.normal(loc=np.arange(k), scale=np.arange(k)*2, size=(n,k))\n",
    "w = np.random.normal(size=(d,k))\n",
    "y = np.dot(z, w.T)\n",
    "y.shape\n",
    "\n",
    "adata = AnnData(y)\n",
    "adata.obs_names = [f\"obs_{i+1}\" for i in range(n)]\n",
    "adata.var_names = [f\"var_{j+1}\" for j in range(d)]\n",
    "\n",
    "d2 = 50\n",
    "w2 = np.random.normal(size=(d2,k))\n",
    "y2 = np.dot(z, w2.T)\n",
    "\n",
    "adata2 = AnnData(y2)\n",
    "adata2.obs_names = [f\"obs_{i+1}\" for i in range(n)]\n",
    "adata2.var_names = [f\"var2_{j+1}\" for j in range(d2)]\n",
    "\n",
    "\n",
    "mdata = MuData({\"A\": adata, \"B\": adata2})"
   ]
  },
  {
   "cell_type": "code",
   "execution_count": 113,
   "metadata": {},
   "outputs": [
    {
     "data": {
      "text/html": [
       "<pre>MuData object with n_obs × n_vars = 1000 × 150\n",
       "  2 modalities\n",
       "    A:\t1000 x 100\n",
       "    B:\t1000 x 50</pre>"
      ],
      "text/plain": [
       "MuData object with n_obs × n_vars = 1000 × 150\n",
       "  2 modalities\n",
       "    A:\t1000 x 100\n",
       "    B:\t1000 x 50"
      ]
     },
     "execution_count": 113,
     "metadata": {},
     "output_type": "execute_result"
    }
   ],
   "source": [
    "mdata"
   ]
  },
  {
   "cell_type": "code",
   "execution_count": null,
   "metadata": {},
   "outputs": [],
   "source": []
  }
 ],
 "metadata": {
  "kernelspec": {
   "display_name": "Python 3.9.7 ('base')",
   "language": "python",
   "name": "python3"
  },
  "language_info": {
   "codemirror_mode": {
    "name": "ipython",
    "version": 3
   },
   "file_extension": ".py",
   "mimetype": "text/x-python",
   "name": "python",
   "nbconvert_exporter": "python",
   "pygments_lexer": "ipython3",
   "version": "3.9.7"
  },
  "orig_nbformat": 4,
  "vscode": {
   "interpreter": {
    "hash": "c6bd0ec3a204bf5c0781f83d057b301cf5d8f980f54959cb164fccc33b67114c"
   }
  }
 },
 "nbformat": 4,
 "nbformat_minor": 2
}
