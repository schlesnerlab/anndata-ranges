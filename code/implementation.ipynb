{
 "cells": [
  {
   "cell_type": "code",
   "execution_count": 1,
   "metadata": {},
   "outputs": [],
   "source": [
    "import numpy as np\n",
    "import pandas as pd\n",
    "import anndata as ad\n",
    "from scipy.sparse import csr_matrix\n",
    "from mudata import MuData\n",
    "import mudata as md\n",
    "from anndata import AnnData\n",
    "import pyranges as pr"
   ]
  },
  {
   "cell_type": "code",
   "execution_count": 2,
   "metadata": {},
   "outputs": [],
   "source": [
    "def set_coord(adata, prange):\n",
    "    adata.varm['coord'] = prange.df.set_index(adata.var_names)"
   ]
  },
  {
   "cell_type": "code",
   "execution_count": 4,
   "metadata": {},
   "outputs": [],
   "source": [
    "def subset_by_overlap(adata, prange):\n",
    "    coord = pr.PyRanges(adata.varm['coord'].reset_index())\n",
    "    idx = coord.overlap(prange).index\n",
    "    return adata[:, idx]"
   ]
  },
  {
   "cell_type": "code",
   "execution_count": 3,
   "metadata": {},
   "outputs": [],
   "source": [
    "def slice_pyrange(adata, chrom, start, end):\n",
    "    prange = pr.PyRanges(chromosomes=chrom, starts=[start], ends=[end])\n",
    "    return subset_by_overlap(adata, prange)"
   ]
  },
  {
   "cell_type": "code",
   "execution_count": 10,
   "metadata": {},
   "outputs": [],
   "source": [
    "class RangeAnnData(AnnData):\n",
    "    def set_coord(self, prange):\n",
    "        self.varm['coord'] = prange.df.set_index(adata.var_names)\n",
    "\n",
    "    def subset_by_overlap(self, prange):\n",
    "        coord = pr.PyRanges(self.varm['coord'].reset_index())\n",
    "        idx = coord.overlap(prange).index\n",
    "        return self[:, idx]\n",
    "\n",
    "    def slice_pyrange(self, chrom, start, end):\n",
    "        prange = pr.PyRanges(chromosomes=chrom, starts=[start], ends=[end])\n",
    "        return subset_by_overlap(self, prange)"
   ]
  },
  {
   "cell_type": "code",
   "execution_count": 16,
   "metadata": {},
   "outputs": [],
   "source": [
    "counts = csr_matrix(np.random.poisson(1, size=(100, 1000)), dtype=np.float32)\n",
    "exons, gr = pr.data.exons(), pr.data.cpg()\n",
    "\n",
    "adata = RangeAnnData(counts)\n",
    "adata.obs_names = [f\"Cell_{i:d}\" for i in range(adata.n_obs)]\n",
    "adata.var_names = [f\"Gene_{i:d}\" for i in range(adata.n_vars)]"
   ]
  },
  {
   "cell_type": "code",
   "execution_count": 17,
   "metadata": {},
   "outputs": [],
   "source": [
    "adata.set_coord(exons)"
   ]
  },
  {
   "cell_type": "code",
   "execution_count": 19,
   "metadata": {},
   "outputs": [
    {
     "data": {
      "text/plain": [
       "<100x32 sparse matrix of type '<class 'numpy.float32'>'\n",
       "\twith 2011 stored elements in Compressed Sparse Row format>"
      ]
     },
     "execution_count": 19,
     "metadata": {},
     "output_type": "execute_result"
    }
   ],
   "source": [
    "slice_adata = adata.slice_pyrange('chrX', 1000000, 10000000)\n",
    "slice_adata.X"
   ]
  },
  {
   "cell_type": "code",
   "execution_count": 20,
   "metadata": {},
   "outputs": [
    {
     "data": {
      "text/plain": [
       "<100x78 sparse matrix of type '<class 'numpy.float32'>'\n",
       "\twith 4899 stored elements in Compressed Sparse Row format>"
      ]
     },
     "execution_count": 20,
     "metadata": {},
     "output_type": "execute_result"
    }
   ],
   "source": [
    "subset_adata = adata.subset_by_overlap(gr)\n",
    "subset_adata.X"
   ]
  },
  {
   "cell_type": "code",
   "execution_count": null,
   "metadata": {},
   "outputs": [],
   "source": [
    "class RangeMuData(MuData):\n",
    "    def set_coord(self, prange):\n",
    "        self.varm['coord'] = prange.df.set_index(adata.var_names)\n",
    "\n",
    "    def subset_by_overlap(self, prange):\n",
    "        coord = pr.PyRanges(self.varm['coord'].reset_index())\n",
    "        idx = coord.overlap(prange).index\n",
    "        return self[:, idx]\n",
    "\n",
    "    def slice_pyrange(self, chrom, start, end):\n",
    "        prange = pr.PyRanges(chromosomes=chrom, starts=[start], ends=[end])\n",
    "        return subset_by_overlap(self, prange)"
   ]
  },
  {
   "cell_type": "code",
   "execution_count": null,
   "metadata": {},
   "outputs": [],
   "source": []
  }
 ],
 "metadata": {
  "kernelspec": {
   "display_name": "Python 3.9.7 ('base')",
   "language": "python",
   "name": "python3"
  },
  "language_info": {
   "codemirror_mode": {
    "name": "ipython",
    "version": 3
   },
   "file_extension": ".py",
   "mimetype": "text/x-python",
   "name": "python",
   "nbconvert_exporter": "python",
   "pygments_lexer": "ipython3",
   "version": "3.9.7"
  },
  "orig_nbformat": 4,
  "vscode": {
   "interpreter": {
    "hash": "c6bd0ec3a204bf5c0781f83d057b301cf5d8f980f54959cb164fccc33b67114c"
   }
  }
 },
 "nbformat": 4,
 "nbformat_minor": 2
}
