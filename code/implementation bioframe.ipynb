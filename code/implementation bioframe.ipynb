{
 "cells": [
  {
   "cell_type": "code",
   "execution_count": 3,
   "metadata": {},
   "outputs": [],
   "source": [
    "import numpy as np\n",
    "import pandas as pd\n",
    "import anndata as ad\n",
    "from scipy.sparse import csr_matrix\n",
    "from mudata import MuData\n",
    "import mudata as md\n",
    "from anndata import AnnData\n",
    "# import pyranges as pr\n",
    "import bioframe as bf"
   ]
  },
  {
   "cell_type": "code",
   "execution_count": 4,
   "metadata": {},
   "outputs": [],
   "source": [
    "def set_coord(adata, range_df):\n",
    "    adata.varm['coord'] = range_df.set_index(adata.var_names)"
   ]
  },
  {
   "cell_type": "code",
   "execution_count": 26,
   "metadata": {},
   "outputs": [],
   "source": [
    "def subset_by_overlap(adata, granges):\n",
    "    # coord = pr.PyRanges(adata.varm['coord'].reset_index())\n",
    "    varm = adata.varm['coord'].copy()\n",
    "    varm['idx'] = varm.index\n",
    "    idx = bf.overlap(varm, granges, how='inner')['idx']\n",
    "    return adata[:, idx]"
   ]
  },
  {
   "cell_type": "code",
   "execution_count": 20,
   "metadata": {},
   "outputs": [],
   "source": [
    "def slice_granges(adata, chrom, start, end):\n",
    "    idx = bf.select(adata.varm['coord'], f\"{chrom}:{start}-{end}\").index\n",
    "    return adata[:, idx]"
   ]
  },
  {
   "cell_type": "code",
   "execution_count": 39,
   "metadata": {},
   "outputs": [],
   "source": [
    "class RangeAnnData(AnnData):\n",
    "    def set_coord(self, range_df):\n",
    "        self.varm['coord'] = range_df.set_index(self.var_names)\n",
    "\n",
    "    def subset_by_overlap(self, granges):\n",
    "        varm = self.varm['coord'].copy()\n",
    "        varm['idx'] = varm.index\n",
    "        idx = bf.overlap(varm, granges, how='inner')['idx']\n",
    "        return self[:, idx]\n",
    "\n",
    "    def slice_granges(self, chrom, start, end):\n",
    "        idx = bf.select(self.varm['coord'], f\"{chrom}:{start}-{end}\").index\n",
    "        return self[:, idx]"
   ]
  },
  {
   "cell_type": "code",
   "execution_count": 40,
   "metadata": {},
   "outputs": [],
   "source": [
    "counts = csr_matrix(np.random.poisson(1, size=(100, 1000)), dtype=np.float32)\n",
    "exons, gr = pr.data.exons().df, pr.data.cpg().df\n",
    "exons.columns = ['chrom', 'start', 'end'] + list(exons.columns[3:])\n",
    "gr.columns = ['chrom', 'start', 'end']+ list(gr.columns[3:])\n",
    "\n",
    "adata = RangeAnnData(counts)\n",
    "adata.obs_names = [f\"Cell_{i:d}\" for i in range(adata.n_obs)]\n",
    "adata.var_names = [f\"Gene_{i:d}\" for i in range(adata.n_vars)]\n",
    "adata.set_coord(exons)"
   ]
  },
  {
   "cell_type": "code",
   "execution_count": 41,
   "metadata": {},
   "outputs": [
    {
     "data": {
      "text/html": [
       "<div>\n",
       "<style scoped>\n",
       "    .dataframe tbody tr th:only-of-type {\n",
       "        vertical-align: middle;\n",
       "    }\n",
       "\n",
       "    .dataframe tbody tr th {\n",
       "        vertical-align: top;\n",
       "    }\n",
       "\n",
       "    .dataframe thead th {\n",
       "        text-align: right;\n",
       "    }\n",
       "</style>\n",
       "<table border=\"1\" class=\"dataframe\">\n",
       "  <thead>\n",
       "    <tr style=\"text-align: right;\">\n",
       "      <th></th>\n",
       "      <th>chrom</th>\n",
       "      <th>start</th>\n",
       "      <th>end</th>\n",
       "      <th>Name</th>\n",
       "      <th>Score</th>\n",
       "      <th>Strand</th>\n",
       "    </tr>\n",
       "  </thead>\n",
       "  <tbody>\n",
       "    <tr>\n",
       "      <th>Gene_12</th>\n",
       "      <td>chrX</td>\n",
       "      <td>1475113</td>\n",
       "      <td>1475229</td>\n",
       "      <td>NM_001267713_exon_4_0_chrX_1475114_f</td>\n",
       "      <td>0</td>\n",
       "      <td>+</td>\n",
       "    </tr>\n",
       "    <tr>\n",
       "      <th>Gene_18</th>\n",
       "      <td>chrX</td>\n",
       "      <td>1393647</td>\n",
       "      <td>1393735</td>\n",
       "      <td>NM_172249_exon_1_0_chrX_1393648_f</td>\n",
       "      <td>0</td>\n",
       "      <td>+</td>\n",
       "    </tr>\n",
       "    <tr>\n",
       "      <th>Gene_22</th>\n",
       "      <td>chrX</td>\n",
       "      <td>1419383</td>\n",
       "      <td>1419519</td>\n",
       "      <td>NM_001161531_exon_9_0_chrX_1419384_f</td>\n",
       "      <td>0</td>\n",
       "      <td>+</td>\n",
       "    </tr>\n",
       "    <tr>\n",
       "      <th>Gene_124</th>\n",
       "      <td>chrX</td>\n",
       "      <td>1424338</td>\n",
       "      <td>1424420</td>\n",
       "      <td>NM_006140_exon_11_0_chrX_1424339_f</td>\n",
       "      <td>0</td>\n",
       "      <td>+</td>\n",
       "    </tr>\n",
       "    <tr>\n",
       "      <th>Gene_140</th>\n",
       "      <td>chrX</td>\n",
       "      <td>1407651</td>\n",
       "      <td>1407781</td>\n",
       "      <td>NM_001161532_exon_3_0_chrX_1407652_f</td>\n",
       "      <td>0</td>\n",
       "      <td>+</td>\n",
       "    </tr>\n",
       "    <tr>\n",
       "      <th>Gene_183</th>\n",
       "      <td>chrX</td>\n",
       "      <td>1404670</td>\n",
       "      <td>1404813</td>\n",
       "      <td>NM_172245_exon_3_0_chrX_1404671_f</td>\n",
       "      <td>0</td>\n",
       "      <td>+</td>\n",
       "    </tr>\n",
       "    <tr>\n",
       "      <th>Gene_276</th>\n",
       "      <td>chrX</td>\n",
       "      <td>1393647</td>\n",
       "      <td>1393735</td>\n",
       "      <td>NM_006140_exon_1_0_chrX_1393648_f</td>\n",
       "      <td>0</td>\n",
       "      <td>+</td>\n",
       "    </tr>\n",
       "    <tr>\n",
       "      <th>Gene_338</th>\n",
       "      <td>chrX</td>\n",
       "      <td>585078</td>\n",
       "      <td>585337</td>\n",
       "      <td>NM_000451_exon_0_0_chrX_585079_f</td>\n",
       "      <td>0</td>\n",
       "      <td>+</td>\n",
       "    </tr>\n",
       "    <tr>\n",
       "      <th>Gene_345</th>\n",
       "      <td>chrX</td>\n",
       "      <td>1424338</td>\n",
       "      <td>1424420</td>\n",
       "      <td>NM_001161530_exon_10_0_chrX_1424339_f</td>\n",
       "      <td>0</td>\n",
       "      <td>+</td>\n",
       "    </tr>\n",
       "    <tr>\n",
       "      <th>Gene_410</th>\n",
       "      <td>chrX</td>\n",
       "      <td>1414319</td>\n",
       "      <td>1414349</td>\n",
       "      <td>NM_172245_exon_8_0_chrX_1414320_f</td>\n",
       "      <td>0</td>\n",
       "      <td>+</td>\n",
       "    </tr>\n",
       "    <tr>\n",
       "      <th>Gene_416</th>\n",
       "      <td>chrX</td>\n",
       "      <td>1407411</td>\n",
       "      <td>1407535</td>\n",
       "      <td>NM_172249_exon_4_0_chrX_1407412_f</td>\n",
       "      <td>0</td>\n",
       "      <td>+</td>\n",
       "    </tr>\n",
       "  </tbody>\n",
       "</table>\n",
       "</div>"
      ],
      "text/plain": [
       "         chrom    start      end                                   Name  \\\n",
       "Gene_12   chrX  1475113  1475229   NM_001267713_exon_4_0_chrX_1475114_f   \n",
       "Gene_18   chrX  1393647  1393735      NM_172249_exon_1_0_chrX_1393648_f   \n",
       "Gene_22   chrX  1419383  1419519   NM_001161531_exon_9_0_chrX_1419384_f   \n",
       "Gene_124  chrX  1424338  1424420     NM_006140_exon_11_0_chrX_1424339_f   \n",
       "Gene_140  chrX  1407651  1407781   NM_001161532_exon_3_0_chrX_1407652_f   \n",
       "Gene_183  chrX  1404670  1404813      NM_172245_exon_3_0_chrX_1404671_f   \n",
       "Gene_276  chrX  1393647  1393735      NM_006140_exon_1_0_chrX_1393648_f   \n",
       "Gene_338  chrX   585078   585337       NM_000451_exon_0_0_chrX_585079_f   \n",
       "Gene_345  chrX  1424338  1424420  NM_001161530_exon_10_0_chrX_1424339_f   \n",
       "Gene_410  chrX  1414319  1414349      NM_172245_exon_8_0_chrX_1414320_f   \n",
       "Gene_416  chrX  1407411  1407535      NM_172249_exon_4_0_chrX_1407412_f   \n",
       "\n",
       "          Score Strand  \n",
       "Gene_12       0      +  \n",
       "Gene_18       0      +  \n",
       "Gene_22       0      +  \n",
       "Gene_124      0      +  \n",
       "Gene_140      0      +  \n",
       "Gene_183      0      +  \n",
       "Gene_276      0      +  \n",
       "Gene_338      0      +  \n",
       "Gene_345      0      +  \n",
       "Gene_410      0      +  \n",
       "Gene_416      0      +  "
      ]
     },
     "execution_count": 41,
     "metadata": {},
     "output_type": "execute_result"
    }
   ],
   "source": [
    "adata.slice_granges('chrX', 1, 1500000).varm['coord']"
   ]
  },
  {
   "cell_type": "code",
   "execution_count": 43,
   "metadata": {},
   "outputs": [
    {
     "data": {
      "text/html": [
       "<div>\n",
       "<style scoped>\n",
       "    .dataframe tbody tr th:only-of-type {\n",
       "        vertical-align: middle;\n",
       "    }\n",
       "\n",
       "    .dataframe tbody tr th {\n",
       "        vertical-align: top;\n",
       "    }\n",
       "\n",
       "    .dataframe thead th {\n",
       "        text-align: right;\n",
       "    }\n",
       "</style>\n",
       "<table border=\"1\" class=\"dataframe\">\n",
       "  <thead>\n",
       "    <tr style=\"text-align: right;\">\n",
       "      <th></th>\n",
       "      <th>chrom</th>\n",
       "      <th>start</th>\n",
       "      <th>end</th>\n",
       "      <th>Name</th>\n",
       "      <th>Score</th>\n",
       "      <th>Strand</th>\n",
       "    </tr>\n",
       "  </thead>\n",
       "  <tbody>\n",
       "    <tr>\n",
       "      <th>Gene_811</th>\n",
       "      <td>chrX</td>\n",
       "      <td>17879217</td>\n",
       "      <td>17879457</td>\n",
       "      <td>NM_001172739_exon_2_0_chrX_17879218_r</td>\n",
       "      <td>0</td>\n",
       "      <td>-</td>\n",
       "    </tr>\n",
       "    <tr>\n",
       "      <th>Gene_477</th>\n",
       "      <td>chrX</td>\n",
       "      <td>34147868</td>\n",
       "      <td>34150447</td>\n",
       "      <td>NM_203408_exon_0_0_chrX_34147869_r</td>\n",
       "      <td>0</td>\n",
       "      <td>-</td>\n",
       "    </tr>\n",
       "    <tr>\n",
       "      <th>Gene_477</th>\n",
       "      <td>chrX</td>\n",
       "      <td>34147868</td>\n",
       "      <td>34150447</td>\n",
       "      <td>NM_203408_exon_0_0_chrX_34147869_r</td>\n",
       "      <td>0</td>\n",
       "      <td>-</td>\n",
       "    </tr>\n",
       "    <tr>\n",
       "      <th>Gene_520</th>\n",
       "      <td>chrX</td>\n",
       "      <td>45016959</td>\n",
       "      <td>45017133</td>\n",
       "      <td>NM_176819_exon_2_0_chrX_45016960_r</td>\n",
       "      <td>0</td>\n",
       "      <td>-</td>\n",
       "    </tr>\n",
       "    <tr>\n",
       "      <th>Gene_114</th>\n",
       "      <td>chrX</td>\n",
       "      <td>47039278</td>\n",
       "      <td>47039436</td>\n",
       "      <td>NM_001204467_exon_9_0_chrX_47039279_f</td>\n",
       "      <td>0</td>\n",
       "      <td>+</td>\n",
       "    </tr>\n",
       "    <tr>\n",
       "      <th>...</th>\n",
       "      <td>...</td>\n",
       "      <td>...</td>\n",
       "      <td>...</td>\n",
       "      <td>...</td>\n",
       "      <td>...</td>\n",
       "      <td>...</td>\n",
       "    </tr>\n",
       "    <tr>\n",
       "      <th>Gene_879</th>\n",
       "      <td>chrY</td>\n",
       "      <td>15591393</td>\n",
       "      <td>15592550</td>\n",
       "      <td>NR_047610_exon_27_0_chrY_15591394_r</td>\n",
       "      <td>0</td>\n",
       "      <td>-</td>\n",
       "    </tr>\n",
       "    <tr>\n",
       "      <th>Gene_912</th>\n",
       "      <td>chrY</td>\n",
       "      <td>15591393</td>\n",
       "      <td>15592550</td>\n",
       "      <td>NR_047607_exon_29_0_chrY_15591394_r</td>\n",
       "      <td>0</td>\n",
       "      <td>-</td>\n",
       "    </tr>\n",
       "    <tr>\n",
       "      <th>Gene_923</th>\n",
       "      <td>chrY</td>\n",
       "      <td>15591393</td>\n",
       "      <td>15592550</td>\n",
       "      <td>NM_001258269_exon_29_0_chrY_15591394_r</td>\n",
       "      <td>0</td>\n",
       "      <td>-</td>\n",
       "    </tr>\n",
       "    <tr>\n",
       "      <th>Gene_972</th>\n",
       "      <td>chrY</td>\n",
       "      <td>15591393</td>\n",
       "      <td>15592550</td>\n",
       "      <td>NR_047599_exon_28_0_chrY_15591394_r</td>\n",
       "      <td>0</td>\n",
       "      <td>-</td>\n",
       "    </tr>\n",
       "    <tr>\n",
       "      <th>Gene_863</th>\n",
       "      <td>chrY</td>\n",
       "      <td>26979966</td>\n",
       "      <td>26980276</td>\n",
       "      <td>NM_001005375_exon_0_0_chrY_26979967_f</td>\n",
       "      <td>0</td>\n",
       "      <td>+</td>\n",
       "    </tr>\n",
       "  </tbody>\n",
       "</table>\n",
       "<p>79 rows × 6 columns</p>\n",
       "</div>"
      ],
      "text/plain": [
       "         chrom     start       end                                    Name  \\\n",
       "Gene_811  chrX  17879217  17879457   NM_001172739_exon_2_0_chrX_17879218_r   \n",
       "Gene_477  chrX  34147868  34150447      NM_203408_exon_0_0_chrX_34147869_r   \n",
       "Gene_477  chrX  34147868  34150447      NM_203408_exon_0_0_chrX_34147869_r   \n",
       "Gene_520  chrX  45016959  45017133      NM_176819_exon_2_0_chrX_45016960_r   \n",
       "Gene_114  chrX  47039278  47039436   NM_001204467_exon_9_0_chrX_47039279_f   \n",
       "...        ...       ...       ...                                     ...   \n",
       "Gene_879  chrY  15591393  15592550     NR_047610_exon_27_0_chrY_15591394_r   \n",
       "Gene_912  chrY  15591393  15592550     NR_047607_exon_29_0_chrY_15591394_r   \n",
       "Gene_923  chrY  15591393  15592550  NM_001258269_exon_29_0_chrY_15591394_r   \n",
       "Gene_972  chrY  15591393  15592550     NR_047599_exon_28_0_chrY_15591394_r   \n",
       "Gene_863  chrY  26979966  26980276   NM_001005375_exon_0_0_chrY_26979967_f   \n",
       "\n",
       "          Score Strand  \n",
       "Gene_811      0      -  \n",
       "Gene_477      0      -  \n",
       "Gene_477      0      -  \n",
       "Gene_520      0      -  \n",
       "Gene_114      0      +  \n",
       "...         ...    ...  \n",
       "Gene_879      0      -  \n",
       "Gene_912      0      -  \n",
       "Gene_923      0      -  \n",
       "Gene_972      0      -  \n",
       "Gene_863      0      +  \n",
       "\n",
       "[79 rows x 6 columns]"
      ]
     },
     "execution_count": 43,
     "metadata": {},
     "output_type": "execute_result"
    }
   ],
   "source": [
    "adata.subset_by_overlap(gr).varm['coord']"
   ]
  },
  {
   "cell_type": "code",
   "execution_count": 46,
   "metadata": {},
   "outputs": [],
   "source": [
    "counts = csr_matrix(np.random.poisson(1, size=(100, 10000)), dtype=np.float32)\n",
    "chipseq, gr = pr.data.chipseq().df, pr.data.cpg().df\n",
    "chipseq.columns = ['chrom', 'start', 'end'] + list(chipseq.columns[3:])\n",
    "gr.columns = ['chrom', 'start', 'end']+ list(gr.columns[3:])\n",
    "\n",
    "bdata = RangeAnnData(counts)\n",
    "bdata.obs_names = [f\"Cell_{i:d}\" for i in range(bdata.n_obs)]\n",
    "bdata.var_names = [f\"Gene_{i:d}\" for i in range(bdata.n_vars)]\n",
    "bdata.set_coord(chipseq)"
   ]
  },
  {
   "cell_type": "code",
   "execution_count": 47,
   "metadata": {},
   "outputs": [
    {
     "name": "stderr",
     "output_type": "stream",
     "text": [
      "/Users/qian/opt/miniconda3/lib/python3.9/site-packages/mudata/_core/mudata.py:458: UserWarning: Cannot join columns with the same name because var_names are intersecting.\n",
      "  warnings.warn(\n"
     ]
    }
   ],
   "source": [
    "mdata = MuData({\"Exon\": adata, \"Chipseq\": bdata})"
   ]
  },
  {
   "cell_type": "code",
   "execution_count": 57,
   "metadata": {},
   "outputs": [
    {
     "name": "stderr",
     "output_type": "stream",
     "text": [
      "/Users/qian/opt/miniconda3/lib/python3.9/site-packages/mudata/_core/mudata.py:446: UserWarning: var_names are not unique. To make them unique, call `.var_names_make_unique`.\n",
      "  warnings.warn(\n"
     ]
    },
    {
     "data": {
      "text/html": [
       "<pre>MuData object with n_obs × n_vars = 100 × 80\n",
       "  2 modalities\n",
       "    Exon:\t100 x 79\n",
       "      varm:\t&#x27;coord&#x27;\n",
       "    Chipseq:\t100 x 1\n",
       "      varm:\t&#x27;coord&#x27;</pre>"
      ],
      "text/plain": [
       "MuData object with n_obs × n_vars = 100 × 80\n",
       "  2 modalities\n",
       "    Exon:\t100 x 79\n",
       "      varm:\t'coord'\n",
       "    Chipseq:\t100 x 1\n",
       "      varm:\t'coord'"
      ]
     },
     "execution_count": 57,
     "metadata": {},
     "output_type": "execute_result"
    }
   ],
   "source": [
    "MuData({k: mdata.mod[k].subset_by_overlap(gr) for k in mdata.mod.keys()})"
   ]
  },
  {
   "cell_type": "code",
   "execution_count": 65,
   "metadata": {},
   "outputs": [],
   "source": [
    "class RangeMuData(MuData):\n",
    "    def set_coord(self, prange):\n",
    "        self.varm['coord'] = prange.df.set_index(adata.var_names)\n",
    "\n",
    "    def subset_by_overlap(self, granges):\n",
    "        return MuData({k: mdata.mod[k].subset_by_overlap(granges) for k in mdata.mod.keys()})\n",
    "\n",
    "    def slice_granges(self, chrom, start, end):\n",
    "        return MuData({k: mdata.mod[k].slice_granges(chrom, start, end) for k in mdata.mod.keys()})\n"
   ]
  },
  {
   "cell_type": "code",
   "execution_count": 67,
   "metadata": {},
   "outputs": [
    {
     "name": "stderr",
     "output_type": "stream",
     "text": [
      "/Users/qian/opt/miniconda3/lib/python3.9/site-packages/mudata/_core/mudata.py:458: UserWarning: Cannot join columns with the same name because var_names are intersecting.\n",
      "  warnings.warn(\n"
     ]
    }
   ],
   "source": [
    "mdata = RangeMuData({\"Exon\": adata, \"Chipseq\": bdata})"
   ]
  },
  {
   "cell_type": "code",
   "execution_count": 63,
   "metadata": {},
   "outputs": [
    {
     "name": "stderr",
     "output_type": "stream",
     "text": [
      "/Users/qian/opt/miniconda3/lib/python3.9/site-packages/mudata/_core/mudata.py:446: UserWarning: var_names are not unique. To make them unique, call `.var_names_make_unique`.\n",
      "  warnings.warn(\n"
     ]
    },
    {
     "data": {
      "text/html": [
       "<pre>MuData object with n_obs × n_vars = 100 × 80\n",
       "  2 modalities\n",
       "    Exon:\t100 x 79\n",
       "      varm:\t&#x27;coord&#x27;\n",
       "    Chipseq:\t100 x 1\n",
       "      varm:\t&#x27;coord&#x27;</pre>"
      ],
      "text/plain": [
       "MuData object with n_obs × n_vars = 100 × 80\n",
       "  2 modalities\n",
       "    Exon:\t100 x 79\n",
       "      varm:\t'coord'\n",
       "    Chipseq:\t100 x 1\n",
       "      varm:\t'coord'"
      ]
     },
     "execution_count": 63,
     "metadata": {},
     "output_type": "execute_result"
    }
   ],
   "source": [
    "mdata.subset_by_overlap(gr)"
   ]
  },
  {
   "cell_type": "code",
   "execution_count": 69,
   "metadata": {},
   "outputs": [
    {
     "data": {
      "text/html": [
       "<pre>MuData object with n_obs × n_vars = 100 × 37\n",
       "  2 modalities\n",
       "    Exon:\t100 x 33\n",
       "      varm:\t&#x27;coord&#x27;\n",
       "    Chipseq:\t100 x 4\n",
       "      varm:\t&#x27;coord&#x27;</pre>"
      ],
      "text/plain": [
       "MuData object with n_obs × n_vars = 100 × 37\n",
       "  2 modalities\n",
       "    Exon:\t100 x 33\n",
       "      varm:\t'coord'\n",
       "    Chipseq:\t100 x 4\n",
       "      varm:\t'coord'"
      ]
     },
     "execution_count": 69,
     "metadata": {},
     "output_type": "execute_result"
    }
   ],
   "source": [
    "mdata.slice_granges('chrX', 1, 10000000)"
   ]
  },
  {
   "cell_type": "markdown",
   "metadata": {},
   "source": []
  },
  {
   "cell_type": "code",
   "execution_count": null,
   "metadata": {},
   "outputs": [],
   "source": []
  }
 ],
 "metadata": {
  "kernelspec": {
   "display_name": "Python 3.9.7 ('base')",
   "language": "python",
   "name": "python3"
  },
  "language_info": {
   "codemirror_mode": {
    "name": "ipython",
    "version": 3
   },
   "file_extension": ".py",
   "mimetype": "text/x-python",
   "name": "python",
   "nbconvert_exporter": "python",
   "pygments_lexer": "ipython3",
   "version": "3.9.7"
  },
  "orig_nbformat": 4,
  "vscode": {
   "interpreter": {
    "hash": "c6bd0ec3a204bf5c0781f83d057b301cf5d8f980f54959cb164fccc33b67114c"
   }
  }
 },
 "nbformat": 4,
 "nbformat_minor": 2
}
