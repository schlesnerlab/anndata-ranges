{
 "cells": [
  {
   "cell_type": "markdown",
   "id": "d09f5859-55db-4cb0-9d86-b0909bacab00",
   "metadata": {},
   "source": [
    "# Ranges"
   ]
  },
  {
   "cell_type": "markdown",
   "id": "6c12970f-4764-4628-b97d-0bd484a14b49",
   "metadata": {},
   "source": [
    "A [bioframe](https://bioframe.readthedocs.io/en/latest/) based realization of genomic ranges integration in MuData\n",
    "\n",
    "`RangeAnnData` is an extension class to the AnnData class"
   ]
  },
  {
   "cell_type": "markdown",
   "id": "82b63cef-bdc2-435e-99a3-59974e66ad78",
   "metadata": {},
   "source": [
    "## Prepare data"
   ]
  },
  {
   "cell_type": "code",
   "execution_count": 2,
   "id": "8b8c0d85-b2d2-4842-9c22-8987494199be",
   "metadata": {},
   "outputs": [],
   "source": [
    "import numpy as np\n",
    "import pandas as pd\n",
    "import anndata as ad\n",
    "from scipy.sparse import csr_matrix\n",
    "from mudata import MuData\n",
    "import mudata as md\n",
    "from anndata import AnnData\n",
    "import pyranges as pr\n",
    "import bioframe as bf\n",
    "\n",
    "from RangeAnnData import RangeAnnData, RangeMuData"
   ]
  },
  {
   "cell_type": "markdown",
   "id": "4303d432-1be7-4e92-9b26-d7011ecf73aa",
   "metadata": {},
   "source": [
    "## Generation of toy dataset\n",
    "\n",
    "- Count matrix: sparse data with `scipy.csr_matrix`\n",
    "- genomic ranges: provided by `PyRanges`\n",
    "- Make sure the naming of columns follow the bed file format"
   ]
  },
  {
   "cell_type": "code",
   "execution_count": 3,
   "id": "87b7d40c",
   "metadata": {},
   "outputs": [],
   "source": [
    "counts = csr_matrix(np.random.poisson(1, size=(100, 1000)), dtype=np.float32)\n",
    "exons, gr = pr.data.exons().df, pr.data.cpg().df\n",
    "exons = exons.sample(frac=1, replace=False)\n",
    "\n",
    "exons.columns = ['chrom', 'start', 'end'] + list(exons.columns[3:])\n",
    "gr.columns = ['chrom', 'start', 'end']+ list(gr.columns[3:])"
   ]
  },
  {
   "cell_type": "markdown",
   "id": "08d8e1b0",
   "metadata": {},
   "source": [
    "## Build AnnData object out of the dataset"
   ]
  },
  {
   "cell_type": "code",
   "execution_count": 4,
   "id": "5423509d",
   "metadata": {},
   "outputs": [],
   "source": [
    "adata = RangeAnnData(counts)\n",
    "adata.obs_names = [f\"Cell_{i:d}\" for i in range(adata.n_obs)]\n",
    "adata.var_names = [f\"Gene_{i:d}\" for i in range(adata.n_vars)]"
   ]
  },
  {
   "cell_type": "markdown",
   "id": "0a8ba350",
   "metadata": {},
   "source": [
    "Coordinates are integrated into `RangedAnnData` with `varm` by method `set_coord`"
   ]
  },
  {
   "cell_type": "code",
   "execution_count": 5,
   "id": "8952171c",
   "metadata": {},
   "outputs": [
    {
     "data": {
      "text/html": [
       "<div>\n",
       "<style scoped>\n",
       "    .dataframe tbody tr th:only-of-type {\n",
       "        vertical-align: middle;\n",
       "    }\n",
       "\n",
       "    .dataframe tbody tr th {\n",
       "        vertical-align: top;\n",
       "    }\n",
       "\n",
       "    .dataframe thead th {\n",
       "        text-align: right;\n",
       "    }\n",
       "</style>\n",
       "<table border=\"1\" class=\"dataframe\">\n",
       "  <thead>\n",
       "    <tr style=\"text-align: right;\">\n",
       "      <th></th>\n",
       "      <th>chrom</th>\n",
       "      <th>start</th>\n",
       "      <th>end</th>\n",
       "      <th>Name</th>\n",
       "      <th>Score</th>\n",
       "      <th>Strand</th>\n",
       "    </tr>\n",
       "  </thead>\n",
       "  <tbody>\n",
       "    <tr>\n",
       "      <th>Gene_0</th>\n",
       "      <td>chrY</td>\n",
       "      <td>15471646</td>\n",
       "      <td>15471866</td>\n",
       "      <td>NR_047637_exon_17_0_chrY_15471647_r</td>\n",
       "      <td>0</td>\n",
       "      <td>-</td>\n",
       "    </tr>\n",
       "    <tr>\n",
       "      <th>Gene_1</th>\n",
       "      <td>chrX</td>\n",
       "      <td>67417027</td>\n",
       "      <td>67417106</td>\n",
       "      <td>NM_002547_exon_13_0_chrX_67417028_r</td>\n",
       "      <td>0</td>\n",
       "      <td>-</td>\n",
       "    </tr>\n",
       "    <tr>\n",
       "      <th>Gene_2</th>\n",
       "      <td>chrX</td>\n",
       "      <td>117718697</td>\n",
       "      <td>117718820</td>\n",
       "      <td>NM_144658_exon_14_0_chrX_117718698_f</td>\n",
       "      <td>0</td>\n",
       "      <td>+</td>\n",
       "    </tr>\n",
       "    <tr>\n",
       "      <th>Gene_3</th>\n",
       "      <td>chrX</td>\n",
       "      <td>119004494</td>\n",
       "      <td>119005791</td>\n",
       "      <td>NM_006978_exon_0_0_chrX_119004495_r</td>\n",
       "      <td>0</td>\n",
       "      <td>-</td>\n",
       "    </tr>\n",
       "    <tr>\n",
       "      <th>Gene_4</th>\n",
       "      <td>chrX</td>\n",
       "      <td>99854504</td>\n",
       "      <td>99854882</td>\n",
       "      <td>NM_022144_exon_6_0_chrX_99854505_f</td>\n",
       "      <td>0</td>\n",
       "      <td>+</td>\n",
       "    </tr>\n",
       "    <tr>\n",
       "      <th>...</th>\n",
       "      <td>...</td>\n",
       "      <td>...</td>\n",
       "      <td>...</td>\n",
       "      <td>...</td>\n",
       "      <td>...</td>\n",
       "      <td>...</td>\n",
       "    </tr>\n",
       "    <tr>\n",
       "      <th>Gene_995</th>\n",
       "      <td>chrX</td>\n",
       "      <td>54577395</td>\n",
       "      <td>54577483</td>\n",
       "      <td>NM_001184819_exon_9_0_chrX_54577396_f</td>\n",
       "      <td>0</td>\n",
       "      <td>+</td>\n",
       "    </tr>\n",
       "    <tr>\n",
       "      <th>Gene_996</th>\n",
       "      <td>chrY</td>\n",
       "      <td>16834996</td>\n",
       "      <td>16835149</td>\n",
       "      <td>NR_028319_exon_2_0_chrY_16834997_f</td>\n",
       "      <td>0</td>\n",
       "      <td>+</td>\n",
       "    </tr>\n",
       "    <tr>\n",
       "      <th>Gene_997</th>\n",
       "      <td>chrX</td>\n",
       "      <td>31747747</td>\n",
       "      <td>31747865</td>\n",
       "      <td>NM_004013_exon_27_0_chrX_31747748_r</td>\n",
       "      <td>0</td>\n",
       "      <td>-</td>\n",
       "    </tr>\n",
       "    <tr>\n",
       "      <th>Gene_998</th>\n",
       "      <td>chrX</td>\n",
       "      <td>77294333</td>\n",
       "      <td>77294480</td>\n",
       "      <td>NM_000052_exon_17_0_chrX_77294334_f</td>\n",
       "      <td>0</td>\n",
       "      <td>+</td>\n",
       "    </tr>\n",
       "    <tr>\n",
       "      <th>Gene_999</th>\n",
       "      <td>chrY</td>\n",
       "      <td>15409586</td>\n",
       "      <td>15409728</td>\n",
       "      <td>NR_047630_exon_3_0_chrY_15409587_r</td>\n",
       "      <td>0</td>\n",
       "      <td>-</td>\n",
       "    </tr>\n",
       "  </tbody>\n",
       "</table>\n",
       "<p>1000 rows × 6 columns</p>\n",
       "</div>"
      ],
      "text/plain": [
       "         chrom      start        end                                   Name  \\\n",
       "Gene_0    chrY   15471646   15471866    NR_047637_exon_17_0_chrY_15471647_r   \n",
       "Gene_1    chrX   67417027   67417106    NM_002547_exon_13_0_chrX_67417028_r   \n",
       "Gene_2    chrX  117718697  117718820   NM_144658_exon_14_0_chrX_117718698_f   \n",
       "Gene_3    chrX  119004494  119005791    NM_006978_exon_0_0_chrX_119004495_r   \n",
       "Gene_4    chrX   99854504   99854882     NM_022144_exon_6_0_chrX_99854505_f   \n",
       "...        ...        ...        ...                                    ...   \n",
       "Gene_995  chrX   54577395   54577483  NM_001184819_exon_9_0_chrX_54577396_f   \n",
       "Gene_996  chrY   16834996   16835149     NR_028319_exon_2_0_chrY_16834997_f   \n",
       "Gene_997  chrX   31747747   31747865    NM_004013_exon_27_0_chrX_31747748_r   \n",
       "Gene_998  chrX   77294333   77294480    NM_000052_exon_17_0_chrX_77294334_f   \n",
       "Gene_999  chrY   15409586   15409728     NR_047630_exon_3_0_chrY_15409587_r   \n",
       "\n",
       "          Score Strand  \n",
       "Gene_0        0      -  \n",
       "Gene_1        0      -  \n",
       "Gene_2        0      +  \n",
       "Gene_3        0      -  \n",
       "Gene_4        0      +  \n",
       "...         ...    ...  \n",
       "Gene_995      0      +  \n",
       "Gene_996      0      +  \n",
       "Gene_997      0      -  \n",
       "Gene_998      0      +  \n",
       "Gene_999      0      -  \n",
       "\n",
       "[1000 rows x 6 columns]"
      ]
     },
     "execution_count": 5,
     "metadata": {},
     "output_type": "execute_result"
    }
   ],
   "source": [
    "adata.set_coord(exons)\n",
    "adata.varm['coord']"
   ]
  },
  {
   "cell_type": "markdown",
   "id": "55275a34-6be8-4a98-b04d-c41bb53aa26d",
   "metadata": {},
   "source": [
    "## Filter by genomic ranges: `slice_granges`\n",
    "\n",
    "Original data size:"
   ]
  },
  {
   "cell_type": "code",
   "execution_count": 6,
   "id": "3cd52ab6-63fc-44ed-809d-2e5c6f604f7c",
   "metadata": {},
   "outputs": [
    {
     "data": {
      "text/plain": [
       "(100, 1000)"
      ]
     },
     "execution_count": 6,
     "metadata": {},
     "output_type": "execute_result"
    }
   ],
   "source": [
    "adata.shape"
   ]
  },
  {
   "cell_type": "markdown",
   "id": "0f8513cf-9c31-4a45-b731-f55757607953",
   "metadata": {},
   "source": [
    "Sometimes features are defined in some coordinate system such as a linear _genome sequence_ — for instance in assays that measure chromatin accessibility, transcription factor occupancy, DNA methylation. In fact, genes also have a property defining their location in the DNA, even though that's something frequently ignored in transcriptomics analysis pipelines.\n",
    "\n",
    "Typically AnnData/MuData objects are subsetted (or _sliced_) along the feature dimension using method `slice_granges`\n"
   ]
  },
  {
   "cell_type": "code",
   "execution_count": 8,
   "id": "44501280-7b4a-4be1-9255-da9bd1465f33",
   "metadata": {},
   "outputs": [
    {
     "data": {
      "text/plain": [
       "(100, 11)"
      ]
     },
     "execution_count": 8,
     "metadata": {},
     "output_type": "execute_result"
    }
   ],
   "source": [
    "adata.slice_granges('chrX', 1, 1500000).shape"
   ]
  },
  {
   "cell_type": "markdown",
   "id": "8df383f3",
   "metadata": {},
   "source": [
    "# Intersection with a list of genomic ranges\n",
    "\n",
    "Given a list of granges provided in pandas dataframe, "
   ]
  },
  {
   "cell_type": "code",
   "execution_count": null,
   "id": "d4b5ac27",
   "metadata": {},
   "outputs": [],
   "source": []
  }
 ],
 "metadata": {
  "kernelspec": {
   "display_name": "Python 3",
   "language": "python",
   "name": "python3"
  },
  "language_info": {
   "codemirror_mode": {
    "name": "ipython",
    "version": 3
   },
   "file_extension": ".py",
   "mimetype": "text/x-python",
   "name": "python",
   "nbconvert_exporter": "python",
   "pygments_lexer": "ipython3",
   "version": "3.11.3"
  }
 },
 "nbformat": 4,
 "nbformat_minor": 5
}
