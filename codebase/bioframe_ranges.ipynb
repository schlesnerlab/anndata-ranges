{
 "cells": [
  {
   "cell_type": "markdown",
   "id": "d09f5859-55db-4cb0-9d86-b0909bacab00",
   "metadata": {},
   "source": [
    "# Ranges"
   ]
  },
  {
   "cell_type": "markdown",
   "id": "6c12970f-4764-4628-b97d-0bd484a14b49",
   "metadata": {},
   "source": [
    "A [bioframe](https://bioframe.readthedocs.io/en/latest/) based realization of genomic ranges integration in MuData\n",
    "\n",
    "`RangeAnnData` is an extension class to the AnnData class"
   ]
  },
  {
   "cell_type": "markdown",
   "id": "82b63cef-bdc2-435e-99a3-59974e66ad78",
   "metadata": {},
   "source": [
    "## Prepare data"
   ]
  },
  {
   "cell_type": "code",
   "execution_count": 1,
   "id": "8b8c0d85-b2d2-4842-9c22-8987494199be",
   "metadata": {},
   "outputs": [
    {
     "name": "stdout",
     "output_type": "stream",
     "text": [
      "The history saving thread hit an unexpected error (OperationalError('attempt to write a readonly database')).History will not be written to the database.\n"
     ]
    }
   ],
   "source": [
    "import numpy as np\n",
    "import pandas as pd\n",
    "import anndata as ad\n",
    "from scipy.sparse import csr_matrix\n",
    "from mudata import MuData\n",
    "import mudata as md\n",
    "from anndata import AnnData\n",
    "import pyranges as pr\n",
    "import bioframe as bf\n",
    "\n",
    "from RangeAnnData import RangeAnnData, RangeMuData"
   ]
  },
  {
   "cell_type": "markdown",
   "id": "4303d432-1be7-4e92-9b26-d7011ecf73aa",
   "metadata": {},
   "source": [
    "## Generation of toy dataset\n",
    "\n",
    "- Count matrix: sparse data with `scipy.csr_matrix`\n",
    "- genomic ranges: provided by `PyRanges`\n",
    "- Make sure the naming of columns follow the bed file format"
   ]
  },
  {
   "cell_type": "code",
   "execution_count": 2,
   "id": "87b7d40c",
   "metadata": {},
   "outputs": [],
   "source": [
    "counts = csr_matrix(np.random.poisson(1, size=(100, 1000)), dtype=np.float32)\n",
    "exons, gr = pr.data.exons().df, pr.data.cpg().df\n",
    "exons = exons.sample(frac=1, replace=False)\n",
    "\n",
    "exons.columns = ['chrom', 'start', 'end'] + list(exons.columns[3:])\n",
    "gr.columns = ['chrom', 'start', 'end']+ list(gr.columns[3:])"
   ]
  },
  {
   "cell_type": "markdown",
   "id": "08d8e1b0",
   "metadata": {},
   "source": [
    "## Build AnnData object out of the dataset"
   ]
  },
  {
   "cell_type": "code",
   "execution_count": 3,
   "id": "5423509d",
   "metadata": {},
   "outputs": [],
   "source": [
    "adata = RangeAnnData(counts)\n",
    "adata.obs_names = [f\"Cell_{i:d}\" for i in range(adata.n_obs)]\n",
    "adata.var_names = [f\"Gene_{i:d}\" for i in range(adata.n_vars)]"
   ]
  },
  {
   "cell_type": "markdown",
   "id": "0a8ba350",
   "metadata": {},
   "source": [
    "Coordinates are integrated into `RangedAnnData` with `varm` by method `set_coord`"
   ]
  },
  {
   "cell_type": "code",
   "execution_count": 4,
   "id": "8952171c",
   "metadata": {},
   "outputs": [
    {
     "data": {
      "text/html": [
       "<div>\n",
       "<style scoped>\n",
       "    .dataframe tbody tr th:only-of-type {\n",
       "        vertical-align: middle;\n",
       "    }\n",
       "\n",
       "    .dataframe tbody tr th {\n",
       "        vertical-align: top;\n",
       "    }\n",
       "\n",
       "    .dataframe thead th {\n",
       "        text-align: right;\n",
       "    }\n",
       "</style>\n",
       "<table border=\"1\" class=\"dataframe\">\n",
       "  <thead>\n",
       "    <tr style=\"text-align: right;\">\n",
       "      <th></th>\n",
       "      <th>chrom</th>\n",
       "      <th>start</th>\n",
       "      <th>end</th>\n",
       "      <th>Name</th>\n",
       "      <th>Score</th>\n",
       "      <th>Strand</th>\n",
       "    </tr>\n",
       "  </thead>\n",
       "  <tbody>\n",
       "    <tr>\n",
       "      <th>Gene_0</th>\n",
       "      <td>chrX</td>\n",
       "      <td>147733519</td>\n",
       "      <td>147733640</td>\n",
       "      <td>NM_001169125_exon_1_0_chrX_147733520_f</td>\n",
       "      <td>0</td>\n",
       "      <td>+</td>\n",
       "    </tr>\n",
       "    <tr>\n",
       "      <th>Gene_1</th>\n",
       "      <td>chrX</td>\n",
       "      <td>30718954</td>\n",
       "      <td>30719022</td>\n",
       "      <td>NM_001128127_exon_9_0_chrX_30718955_f</td>\n",
       "      <td>0</td>\n",
       "      <td>+</td>\n",
       "    </tr>\n",
       "    <tr>\n",
       "      <th>Gene_2</th>\n",
       "      <td>chrX</td>\n",
       "      <td>16875716</td>\n",
       "      <td>16875832</td>\n",
       "      <td>NM_002893_exon_7_0_chrX_16875717_r</td>\n",
       "      <td>0</td>\n",
       "      <td>-</td>\n",
       "    </tr>\n",
       "    <tr>\n",
       "      <th>Gene_3</th>\n",
       "      <td>chrX</td>\n",
       "      <td>128674251</td>\n",
       "      <td>128674455</td>\n",
       "      <td>NM_000276_exon_0_0_chrX_128674252_f</td>\n",
       "      <td>0</td>\n",
       "      <td>+</td>\n",
       "    </tr>\n",
       "    <tr>\n",
       "      <th>Gene_4</th>\n",
       "      <td>chrX</td>\n",
       "      <td>83588766</td>\n",
       "      <td>83588850</td>\n",
       "      <td>NM_001177479_exon_2_0_chrX_83588767_r</td>\n",
       "      <td>0</td>\n",
       "      <td>-</td>\n",
       "    </tr>\n",
       "    <tr>\n",
       "      <th>...</th>\n",
       "      <td>...</td>\n",
       "      <td>...</td>\n",
       "      <td>...</td>\n",
       "      <td>...</td>\n",
       "      <td>...</td>\n",
       "      <td>...</td>\n",
       "    </tr>\n",
       "    <tr>\n",
       "      <th>Gene_995</th>\n",
       "      <td>chrX</td>\n",
       "      <td>15838329</td>\n",
       "      <td>15838439</td>\n",
       "      <td>NM_005089_exon_9_0_chrX_15838330_f</td>\n",
       "      <td>0</td>\n",
       "      <td>+</td>\n",
       "    </tr>\n",
       "    <tr>\n",
       "      <th>Gene_996</th>\n",
       "      <td>chrX</td>\n",
       "      <td>1407411</td>\n",
       "      <td>1407535</td>\n",
       "      <td>NM_172249_exon_4_0_chrX_1407412_f</td>\n",
       "      <td>0</td>\n",
       "      <td>+</td>\n",
       "    </tr>\n",
       "    <tr>\n",
       "      <th>Gene_997</th>\n",
       "      <td>chrX</td>\n",
       "      <td>31893307</td>\n",
       "      <td>31893490</td>\n",
       "      <td>NM_004010_exon_31_0_chrX_31893308_r</td>\n",
       "      <td>0</td>\n",
       "      <td>-</td>\n",
       "    </tr>\n",
       "    <tr>\n",
       "      <th>Gene_998</th>\n",
       "      <td>chrX</td>\n",
       "      <td>73744193</td>\n",
       "      <td>73744644</td>\n",
       "      <td>NM_006517_exon_2_0_chrX_73744194_f</td>\n",
       "      <td>0</td>\n",
       "      <td>+</td>\n",
       "    </tr>\n",
       "    <tr>\n",
       "      <th>Gene_999</th>\n",
       "      <td>chrX</td>\n",
       "      <td>101095987</td>\n",
       "      <td>101096076</td>\n",
       "      <td>NM_032946_exon_8_0_chrX_101095988_r</td>\n",
       "      <td>0</td>\n",
       "      <td>-</td>\n",
       "    </tr>\n",
       "  </tbody>\n",
       "</table>\n",
       "<p>1000 rows × 6 columns</p>\n",
       "</div>"
      ],
      "text/plain": [
       "         chrom      start        end                                    Name  \\\n",
       "Gene_0    chrX  147733519  147733640  NM_001169125_exon_1_0_chrX_147733520_f   \n",
       "Gene_1    chrX   30718954   30719022   NM_001128127_exon_9_0_chrX_30718955_f   \n",
       "Gene_2    chrX   16875716   16875832      NM_002893_exon_7_0_chrX_16875717_r   \n",
       "Gene_3    chrX  128674251  128674455     NM_000276_exon_0_0_chrX_128674252_f   \n",
       "Gene_4    chrX   83588766   83588850   NM_001177479_exon_2_0_chrX_83588767_r   \n",
       "...        ...        ...        ...                                     ...   \n",
       "Gene_995  chrX   15838329   15838439      NM_005089_exon_9_0_chrX_15838330_f   \n",
       "Gene_996  chrX    1407411    1407535       NM_172249_exon_4_0_chrX_1407412_f   \n",
       "Gene_997  chrX   31893307   31893490     NM_004010_exon_31_0_chrX_31893308_r   \n",
       "Gene_998  chrX   73744193   73744644      NM_006517_exon_2_0_chrX_73744194_f   \n",
       "Gene_999  chrX  101095987  101096076     NM_032946_exon_8_0_chrX_101095988_r   \n",
       "\n",
       "          Score Strand  \n",
       "Gene_0        0      +  \n",
       "Gene_1        0      +  \n",
       "Gene_2        0      -  \n",
       "Gene_3        0      +  \n",
       "Gene_4        0      -  \n",
       "...         ...    ...  \n",
       "Gene_995      0      +  \n",
       "Gene_996      0      +  \n",
       "Gene_997      0      -  \n",
       "Gene_998      0      +  \n",
       "Gene_999      0      -  \n",
       "\n",
       "[1000 rows x 6 columns]"
      ]
     },
     "execution_count": 4,
     "metadata": {},
     "output_type": "execute_result"
    }
   ],
   "source": [
    "adata.set_coord(exons)\n",
    "adata.varm['coord']"
   ]
  },
  {
   "cell_type": "markdown",
   "id": "55275a34-6be8-4a98-b04d-c41bb53aa26d",
   "metadata": {},
   "source": [
    "## Filter by genomic ranges: `slice_granges`\n",
    "\n",
    "Original data size:"
   ]
  },
  {
   "cell_type": "code",
   "execution_count": 5,
   "id": "3cd52ab6-63fc-44ed-809d-2e5c6f604f7c",
   "metadata": {},
   "outputs": [
    {
     "data": {
      "text/plain": [
       "(100, 1000)"
      ]
     },
     "execution_count": 5,
     "metadata": {},
     "output_type": "execute_result"
    }
   ],
   "source": [
    "adata.shape"
   ]
  },
  {
   "cell_type": "markdown",
   "id": "0f8513cf-9c31-4a45-b731-f55757607953",
   "metadata": {},
   "source": [
    "Sometimes features are defined in some coordinate system such as a linear _genome sequence_ — for instance in assays that measure chromatin accessibility, transcription factor occupancy, DNA methylation. In fact, genes also have a property defining their location in the DNA, even though that's something frequently ignored in transcriptomics analysis pipelines.\n",
    "\n",
    "Typically AnnData/MuData objects are subsetted (or _sliced_) along the feature dimension using method `slice_granges`\n"
   ]
  },
  {
   "cell_type": "code",
   "execution_count": 6,
   "id": "44501280-7b4a-4be1-9255-da9bd1465f33",
   "metadata": {},
   "outputs": [
    {
     "data": {
      "text/plain": [
       "(100, 11)"
      ]
     },
     "execution_count": 6,
     "metadata": {},
     "output_type": "execute_result"
    }
   ],
   "source": [
    "adata.slice_granges('chrX', 1, 1500000).shape"
   ]
  },
  {
   "cell_type": "markdown",
   "id": "8df383f3",
   "metadata": {},
   "source": [
    "## Intersection with a list of genomic ranges\n",
    "\n",
    "- Input: List of genomic ranges in pandas dataframe\n",
    "- Output: Subsetted AnnData object with inner overlapping with "
   ]
  },
  {
   "cell_type": "code",
   "execution_count": null,
   "id": "270cfee9",
   "metadata": {},
   "outputs": [],
   "source": []
  },
  {
   "cell_type": "code",
   "execution_count": null,
   "id": "d4b5ac27",
   "metadata": {},
   "outputs": [],
   "source": []
  }
 ],
 "metadata": {
  "kernelspec": {
   "display_name": "Python 3",
   "language": "python",
   "name": "python3"
  },
  "language_info": {
   "codemirror_mode": {
    "name": "ipython",
    "version": 3
   },
   "file_extension": ".py",
   "mimetype": "text/x-python",
   "name": "python",
   "nbconvert_exporter": "python",
   "pygments_lexer": "ipython3",
   "version": "3.11.3"
  }
 },
 "nbformat": 4,
 "nbformat_minor": 5
}
